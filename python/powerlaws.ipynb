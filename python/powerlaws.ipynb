{
 "cells": [
  {
   "cell_type": "code",
   "execution_count": 1,
   "metadata": {},
   "outputs": [],
   "source": [
    "from scipy import io\n",
    "import os\n",
    "import numpy as np\n",
    "from scipy.sparse.linalg import eigsh\n",
    "import matplotlib.pyplot as plt\n",
    "%matplotlib inline\n",
    "import utils\n",
    "\n",
    "dat = io.loadmat('/media/carsen/DATA2/grive/10krecordings/imgResp/natimg2800_M170714_MP032_2017-09-14.mat')\n",
    "\n",
    "resp = dat['stim'][0]['resp'][0] # stim x neurons\n",
    "spont = dat['stim'][0]['spont'][0] # timepts x neurons\n",
    "istim = (dat['stim'][0]['istim'][0]).astype(np.int32) # stim ids \n",
    "istim -= 1 # get out of MATLAB convention\n",
    "istim = istim[:,0]\n",
    "nimg = istim.max() # these are blank stims (exclude them)\n",
    "resp = resp[istim<nimg, :]\n",
    "istim = istim[istim<nimg]\n",
    "\n",
    "# subtract spont (32D)\n",
    "mu = spont.mean(axis=0)\n",
    "sd = spont.std(axis=0) + 1e-6\n",
    "resp = (resp - mu) / sd\n",
    "spont = (spont - mu) / sd\n",
    "sv,u = eigsh(spont.T @ spont, k=32)\n",
    "resp = resp - (resp @ u) @ u.T\n",
    "\n",
    "# mean center each neuron\n",
    "resp -= resp.mean(axis=0)"
   ]
  },
  {
   "cell_type": "code",
   "execution_count": 2,
   "metadata": {},
   "outputs": [
    {
     "name": "stdout",
     "output_type": "stream",
     "text": [
      "fraction of signal variance: 0.165\n"
     ]
    }
   ],
   "source": [
    "### sanity check - decent signal variance ?\n",
    "# split stimuli into two repeats\n",
    "NN = resp.shape[1]\n",
    "sresp = np.zeros((2, nimg, NN), np.float64)\n",
    "inan = np.zeros((nimg,), np.bool)\n",
    "for n in range(nimg):\n",
    "    ist = (istim==n).nonzero()[0]\n",
    "    i1 = ist[:int(ist.size/2)]\n",
    "    i2 = ist[int(ist.size/2):]\n",
    "    # check if two repeats of stim\n",
    "    if np.logical_or(i2.size < 1, i1.size < 1):\n",
    "        inan[n] = 1\n",
    "    else:\n",
    "        sresp[0, n, :] = resp[i1, :].mean(axis=0)\n",
    "        sresp[1, n, :] = resp[i2, :].mean(axis=0)\n",
    "        \n",
    "# remove image responses without two repeats\n",
    "sresp = sresp[:,~inan,:]\n",
    "    \n",
    "snorm = sresp - sresp.mean(axis=1)[:,np.newaxis,:]\n",
    "snorm = snorm / (snorm.std(axis=1)[:,np.newaxis,:] + 1e-6)\n",
    "\n",
    "cc = (snorm[0].T @ snorm[1]) / sresp.shape[1]\n",
    "\n",
    "print('fraction of signal variance: %2.3f'%np.diag(cc).mean())"
   ]
  },
  {
   "cell_type": "code",
   "execution_count": 3,
   "metadata": {},
   "outputs": [
    {
     "name": "stdout",
     "output_type": "stream",
     "text": [
      "decoding accuracy: 0.412\n"
     ]
    }
   ],
   "source": [
    "### sanity check - decent decoding ?\n",
    "# 1 nearest neighbor decoder    \n",
    "# (mean already subtracted)\n",
    "cc = sresp[0] @ sresp[1].T\n",
    "cc /= (sresp[0]**2).sum()\n",
    "cc /= (sresp[1]**2).sum()\n",
    "nstims = sresp.shape[1]\n",
    "print('decoding accuracy: %2.3f'%(cc.argmax(axis=1)==np.arange(0,nstims,1,int)).mean())"
   ]
  },
  {
   "cell_type": "code",
   "execution_count": 5,
   "metadata": {},
   "outputs": [
    {
     "name": "stdout",
     "output_type": "stream",
     "text": [
      "powerlaw, alpha=0.974\n"
     ]
    },
    {
     "data": {
      "image/png": "[encoded data removed]",
      "text/plain": [
       "<Figure size 432x288 with 1 Axes>"
      ]
     },
     "metadata": {
      "needs_background": "light"
     },
     "output_type": "display_data"
    }
   ],
   "source": [
    "### sanity check - is the powerlaw close to 1 ?\n",
    "# powerlaw\n",
    "\n",
    "# compute cvPCA\n",
    "ss = utils.shuff_cvPCA(sresp)\n",
    "\n",
    "# compute powerlaw of averaged shuffles\n",
    "ss = ss.mean(axis=0)\n",
    "alpha,ypred = utils.get_powerlaw(ss/ss.sum(), np.arange(11,5e2).astype(int))  \n",
    "print('powerlaw, alpha=%2.3f'%alpha)\n",
    "\n",
    "plt.loglog(np.arange(0,ss.size)+1, ss/ss.sum())\n",
    "plt.loglog(np.arange(0,ss.size)+1, ypred, c='k')\n",
    "plt.show()"
   ]
  }
 ],
 "metadata": {
  "kernelspec": {
   "display_name": "Python 3",
   "language": "python",
   "name": "python3"
  },
  "language_info": {
   "codemirror_mode": {
    "name": "ipython",
    "version": 3
   },
   "file_extension": ".py",
   "mimetype": "text/x-python",
   "name": "python",
   "nbconvert_exporter": "python",
   "pygments_lexer": "ipython3",
   "version": "3.7.3"
  }
 },
 "nbformat": 4,
 "nbformat_minor": 2
}
